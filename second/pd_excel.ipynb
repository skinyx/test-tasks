{
 "cells": [
  {
   "cell_type": "markdown",
   "metadata": {},
   "source": [
    "*Задание 1*\n",
    "\n",
    "*На 1 миллион показов баннера пришлось 1222 клика. Согласуется ли это с гипотезой о том, что CTR равен 0,1%? Ответ обоснуйте.*"
   ]
  },
  {
   "cell_type": "markdown",
   "metadata": {},
   "source": [
    " -------------------\n",
    " Нельзя сказать со стопроцентной вероятностью, согласуется гипотеза с реальностью или нет, но мы можем воспользоваться доверительным интервалом и сделать вывод с определённой степенью достоверности.\n",
    " Количество \"успехов\" в серии независимых событий, где вероятность \"успеха\" постоянна в каждом событии, имеет биноминальное распределение. Чем больше событий - тем ближе биноминальное распределение к нормальному распределению с мат. ожиданием  np и дисперсией npq (p - это вероятность \"успеха\", q = (1 - p), n - количество событий). Зная это - можем использовать правило трёх сигм."
   ]
  },
  {
   "cell_type": "code",
   "execution_count": 1,
   "metadata": {},
   "outputs": [
    {
     "name": "stdout",
     "output_type": "stream",
     "text": [
      "Гипотеза про CTR = 0.1% не верна с вероятность более, чем 99.73%\n"
     ]
    }
   ],
   "source": [
    "n = 1000000\n",
    "p = 0.001\n",
    "q = 1 - p\n",
    "\n",
    "mean = p*n\n",
    "var = n*p*q\n",
    "sigma = var ** (1 / 2)\n",
    "three_sig_rule = 1000 + 3 * sigma\n",
    "\n",
    "if 1222 > three_sig_rule:\n",
    "    print('Гипотеза про CTR = 0.1% не верна с вероятность более, чем 99.73%')"
   ]
  },
  {
   "cell_type": "markdown",
   "metadata": {},
   "source": [
    "*Задание 2*\n",
    "\n",
    "*В приложении содержится файл “logs_sample.xlsx”, который представляет собой выборку логов открытий писем email-рассылок (адреса пользователей закодированы в столбце cid). Используя любой язык программирования напишите алгоритм, который считает среднее количество открытий писем на пользователя (т. е. на уникальное значение cid) в этом файле. При расчете учитывайте только тех пользователей, которые совершили 2 и более открытий писем. В условии приведена небольшая часть логов. Рассмотрите два случая, при которых ваш алгоритм должен обрабатывать:*\n",
    "\n",
    "  *- файл логов размером 300 MB*\n",
    "\n",
    "  *- файл логов размером 300 GB*"
   ]
  },
  {
   "cell_type": "markdown",
   "metadata": {},
   "source": [
    "---------------------------\n",
    "Для файла 300 мб:"
   ]
  },
  {
   "cell_type": "code",
   "execution_count": 9,
   "metadata": {},
   "outputs": [
    {
     "name": "stdout",
     "output_type": "stream",
     "text": [
      "Среднее количество открываний писем на пользователя (только те, которые совершили более двух открываний писем): 2.392523364485981\n",
      "Wall time: 181 ms\n"
     ]
    }
   ],
   "source": [
    "import pandas as pd\n",
    "\n",
    "logs = pd.read_excel(r'S:\\jupyter\\Rostel\\logs_sample.xlsx', usecols='A, I')\n",
    "uniq_id = logs.groupby('cid')\n",
    "print('Среднее количество открываний писем на пользователя (только те, которые совершили более двух открываний писем): {}'.format(uniq_id.count()[uniq_id.count() >= 2].mean()[0]))"
   ]
  },
  {
   "cell_type": "markdown",
   "metadata": {},
   "source": [
    "Для файла размером в 30 гб:\n",
    "\n",
    "- Первый вариант, если важна память. Mergesort лучше показывает себя на больших массивах с точки зрения потребления памяти\n",
    "- Второй вариант, если важна скорость. Храним все уникальные значения и число их вхождений, но зато не сортируем"
   ]
  },
  {
   "cell_type": "code",
   "execution_count": 10,
   "metadata": {},
   "outputs": [
    {
     "name": "stdout",
     "output_type": "stream",
     "text": [
      "2.392523364485981\n",
      "Wall time: 174 ms\n"
     ]
    }
   ],
   "source": [
    "import pandas as pd\n",
    "\n",
    "logs = pd.read_excel(r'S:\\jupyter\\Rostel\\logs_sample.xlsx', usecols='I', squeeze=True).sort_values(kind='mergesort')\n",
    "\n",
    "prev_id = None\n",
    "duration = 0\n",
    "users = 0\n",
    "opens_total = 0\n",
    "for cid in logs:\n",
    "    if cid == prev_id:\n",
    "        duration += 1\n",
    "    else:\n",
    "        if duration >= 2:\n",
    "            users += 1\n",
    "            opens_total += duration\n",
    "        duration = 1\n",
    "        prev_id = cid\n",
    "\n",
    "print(opens_total / users)"
   ]
  },
  {
   "cell_type": "code",
   "execution_count": 11,
   "metadata": {},
   "outputs": [
    {
     "name": "stdout",
     "output_type": "stream",
     "text": [
      "2.392523364485981\n",
      "Wall time: 222 ms\n"
     ]
    }
   ],
   "source": [
    "from openpyxl import load_workbook\n",
    "wb = load_workbook(r'S:\\jupyter\\Rostel\\logs_sample.xlsx', read_only=True)\n",
    "logs = wb.worksheets[0]\n",
    "\n",
    "all_cids = dict()\n",
    "for row in logs:\n",
    "    cid = row[8].value\n",
    "    if cid not in all_cids:\n",
    "        all_cids[cid] = 1\n",
    "    else:\n",
    "        all_cids[cid] += 1\n",
    "\n",
    "opens_total = 0\n",
    "users = 0\n",
    "for val in all_cids.values():\n",
    "    if val >= 2:\n",
    "        opens_total += val\n",
    "        users += 1\n",
    "\n",
    "print(opens_total/users)"
   ]
  },
  {
   "cell_type": "markdown",
   "metadata": {},
   "source": [
    "*Задание 3*\n",
    "\n",
    "*Маркетинговый отдел провел две рекламные кампании нового игрового тарифа, размещая баннеры на различных сайтах. CTR одной кампании составил 0,5%, у второй - 0,6%. Как бы вы оценили какую из этих кампаний считать более удачной?*"
   ]
  },
  {
   "cell_type": "markdown",
   "metadata": {},
   "source": [
    "------------------\n",
    "Посчитал бы рейтинг конверсии, а если это невозможно - посмотрел бы, сколько пользователь задерживался на сайте после перехода по баннеру."
   ]
  }
 ],
 "metadata": {
  "kernelspec": {
   "display_name": "Python 3",
   "language": "python",
   "name": "python3"
  },
  "language_info": {
   "codemirror_mode": {
    "name": "ipython",
    "version": 3
   },
   "file_extension": ".py",
   "mimetype": "text/x-python",
   "name": "python",
   "nbconvert_exporter": "python",
   "pygments_lexer": "ipython3",
   "version": "3.7.3"
  }
 },
 "nbformat": 4,
 "nbformat_minor": 2
}
