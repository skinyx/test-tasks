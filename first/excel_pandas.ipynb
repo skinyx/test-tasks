{
 "cells": [
  {
   "cell_type": "markdown",
   "metadata": {},
   "source": [
    "Задание:\n",
    "\n",
    "В файле milk_promo_sales.csv приведены промо продажи по неделям одного SKU в молочной категории. \n",
    "Описание полей:\n",
    "store_id\t- идентификатор магазина\n",
    "period_id\t - период (неделя) наблюдения\n",
    "sales_volume - объем продаж\n",
    "\n",
    "Промопериодом мы считаем непрерывный отрезок времени, когда были продажи в рамках одного магазина. Пример разбивки по промопериодам и нахождение длительности промопериода находятся в файле example.xls\n",
    "\n",
    "Используя данные фактических продаж необходимо найти:\n",
    "1. Общее количество промопериодов (во всех магазинах)\n",
    "2. Медиану продолжительности промопериода (количество недель)\n",
    "3. Объем  продаж по каждому промопериоду\n",
    "4. Медиану количества промопериодов на один магазин"
   ]
  },
  {
   "cell_type": "code",
   "execution_count": 1,
   "metadata": {},
   "outputs": [],
   "source": [
    "import pandas as pd"
   ]
  },
  {
   "cell_type": "markdown",
   "metadata": {},
   "source": [
    "Сначала я сортирую значения датасета, чтобы потом ввести столбец continuous_id. Для этого необходимо, чтобы period_id и store_id были упорядочены."
   ]
  },
  {
   "cell_type": "code",
   "execution_count": 2,
   "metadata": {},
   "outputs": [],
   "source": [
    "data = pd.read_csv(r'D:\\Users\\Ivan\\Desktop\\milk_promo_sales.csv')\n",
    "sorted_data = data.sort_values(by=['store_id', 'period_id'])"
   ]
  },
  {
   "cell_type": "markdown",
   "metadata": {},
   "source": [
    " Добавляю в sorted_data столбец continuous_id , показывающий непрерывные промежутки времени в нашем отсортированном списке. Для этого создаю структуру Series, в которой строка будет False, если period_id этой строки ровно на 1 больше period_id предыдущей, и True в ином случае."
   ]
  },
  {
   "cell_type": "code",
   "execution_count": 3,
   "metadata": {},
   "outputs": [],
   "source": [
    "sorted_data['continuous_id'] = (sorted_data.period_id.diff().fillna(0) != 1).cumsum()"
   ]
  },
  {
   "cell_type": "markdown",
   "metadata": {},
   "source": [
    "Ниже показана логика, по которой создаётся continuous_id:\n",
    "\n",
    "```\n",
    "diff  boolean  continuous  period_id\n",
    "                                            \n",
    "0.0     True           1        191\n",
    "1.0    False           1        192\n",
    "1.0    False           1        193\n",
    "1.0    False           1        194\n",
    "1.0    False           1        195\n",
    "1.0    False           1        196\n",
    "1.0    False           1        197\n",
    "1.0    False           1        198\n",
    "1.0    False           1        199\n",
    "1.0    False           1        200\n",
    "1.0    False           1        201\n",
    "1.0    False           1        202\n",
    "1.0    False           1        203\n",
    "1.0    False           1        204\n",
    "1.0    False           1        205\n",
    "1.0    False           1        206\n",
    "2.0     True           2        208\n",
    "1.0    False           2        209\n",
    "2.0     True           3        211\n",
    "1.0    False           3        212\n",
    "1.0    False           3        213\n",
    "1.0    False           3        214\n",
    "2.0     True           4        216\n",
    "1.0    False           4        217\n",
    "1.0    False           4        218\n",
    "1.0    False           4        219\n",
    "1.0    False           4        220\n",
    "2.0     True           5        222\n",
    "1.0    False           5        223\n",
    "1.0    False           5        224\n",
    "```"
   ]
  },
  {
   "cell_type": "markdown",
   "metadata": {},
   "source": [
    "Так как промопериод, не только непрерывный промежуток времени, но ещё и в рамках одного магазина (а continuous_id не изменится, если period_id следующего магазина на 1 больше period_id текущего магазина) - группирую сортированный список по id непрерывных промежутков времени и по id магазинов. "
   ]
  },
  {
   "cell_type": "code",
   "execution_count": 4,
   "metadata": {},
   "outputs": [],
   "source": [
    "promos = sorted_data.groupby(['store_id', 'continuous_id'])"
   ]
  },
  {
   "cell_type": "markdown",
   "metadata": {},
   "source": [
    "Для получения медианы количества промопериодов на один магазин, я группирую sorted_data по id магазина и считаю сколько уникальных непрерывных периодов времени в рамках каждого магазина."
   ]
  },
  {
   "cell_type": "code",
   "execution_count": 8,
   "metadata": {},
   "outputs": [
    {
     "name": "stdout",
     "output_type": "stream",
     "text": [
      "Общее количество промопериодов: 140992\n",
      "Медиана продолжительности промопериода: 3.0\n",
      "Медиана количества промопериодов на один магазин 6.0\n",
      "Объём продаж по каждому промопериоду:\n",
      "\n",
      " store_id  continuous_id\n",
      "4168621   1                  86.35\n",
      "          2                   9.90\n",
      "          3                  15.85\n",
      "          4                  18.20\n",
      "          5                  48.30\n",
      "          6                  52.95\n",
      "4168624   7                1489.30\n",
      "4168636   8                   8.20\n",
      "          9                  30.65\n",
      "          10                 10.25\n",
      "Name: sales_volume, dtype: float64\n"
     ]
    }
   ],
   "source": [
    "print('Общее количество промопериодов:', len(promos))\n",
    "print('Медиана продолжительности промопериода:', promos.size().median())\n",
    "print('Медиана количества промопериодов на один магазин',\n",
    "      sorted_data.groupby('store_id').continuous_id.nunique().median())\n",
    "print('Объём продаж по каждому промопериоду:\\n\\n', promos.sales_volume.sum().head(10))"
   ]
  }
 ],
 "metadata": {
  "kernelspec": {
   "display_name": "Python 3",
   "language": "python",
   "name": "python3"
  },
  "language_info": {
   "codemirror_mode": {
    "name": "ipython",
    "version": 3
   },
   "file_extension": ".py",
   "mimetype": "text/x-python",
   "name": "python",
   "nbconvert_exporter": "python",
   "pygments_lexer": "ipython3",
   "version": "3.7.3"
  }
 },
 "nbformat": 4,
 "nbformat_minor": 2
}
